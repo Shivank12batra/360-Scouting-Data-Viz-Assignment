{
 "cells": [
  {
   "cell_type": "markdown",
   "id": "c8dde698",
   "metadata": {},
   "source": [
    "# 360 Scouting Data Viz Assignment"
   ]
  },
  {
   "cell_type": "markdown",
   "id": "1daef3cc",
   "metadata": {},
   "source": [
    "## Problem Statement"
   ]
  },
  {
   "cell_type": "markdown",
   "id": "a3973e5a",
   "metadata": {},
   "source": [
    "Quantifying centre-backs contribution in their team's buildup play using data from https://fbref.com/en/ "
   ]
  },
  {
   "cell_type": "markdown",
   "id": "709ea761",
   "metadata": {},
   "source": [
    "## My Solution"
   ]
  },
  {
   "cell_type": "markdown",
   "id": "52058a65",
   "metadata": {},
   "source": [
    "### Approach:"
   ]
  },
  {
   "cell_type": "markdown",
   "id": "4b0443e1",
   "metadata": {},
   "source": [
    "• From the above problem statement, it is very essential to understand and conceptualize the term \"buildup-play\" and what it exactly means before we choose the right metrics and the viz.\n",
    "\n",
    "• Build-up play in football is when a team progresses the ball from the back higher up the pitch. Different teams have different ways of building out from the back: teams like City prefer to play short and slowly move the ball higher up the pitch whereas teams like Burnley prefer a complete opposite approach.\n",
    "\n",
    "• And to quantify the contribution of CB's in their team's build-up play, we need to look at two aspects: Involvement and Progressiveness/Progressive Actions.\n",
    "\n",
    "• We also have the metrics available to us from fbref which are relevant and will help us capture the above two aspects.\n",
    "\n",
    "• Successful passes and successful progressive actions(successful progressive passes + successful progressive dribbles) will be the perfect metrics to use.\n",
    "\n",
    "• However, we want to don't want to look at these numbers in isolation, what we want is in relation to the overall team's number.\n",
    "\n",
    "Example: Centre-back A and Centre-back B both have same number of progressive actions i.e. 3.9(per 90) but their respective team's overall progressive numbers are 21 and 29 (both per 90) respectively. From this, we can infer that centre-back A was more progressive/involved in his team's buildup-play than centre-back B was for his team.\n",
    "\n",
    "• So, we this in mind we will be further doing some data combining/wrangling to derive two further features: \"% Of Team's Total Successful Passes\" and \"% Of Team's Total Progressive Successful Progressive Actions\".\n",
    "\n",
    "*Progressive actions will include both progressive passes and progressive carries*"
   ]
  },
  {
   "cell_type": "markdown",
   "id": "22f61158",
   "metadata": {},
   "source": [
    "## Viz Type"
   ]
  },
  {
   "cell_type": "markdown",
   "id": "036fae8a",
   "metadata": {},
   "source": [
    "Scatter plot will be the choice of viz to visualize the relation between the two metrics which we have chosen above."
   ]
  },
  {
   "cell_type": "markdown",
   "id": "9b435c30",
   "metadata": {},
   "source": [
    "## Data Collection"
   ]
  },
  {
   "cell_type": "markdown",
   "id": "79fa0160",
   "metadata": {},
   "source": [
    "### Importing  Necessary Libraries"
   ]
  },
  {
   "cell_type": "code",
   "execution_count": 1,
   "id": "093dbe15",
   "metadata": {},
   "outputs": [],
   "source": [
    "import pandas as pd\n",
    "import numpy as np\n",
    "import matplotlib.pyplot as plt\n",
    "import seaborn as sns"
   ]
  },
  {
   "cell_type": "code",
   "execution_count": 2,
   "id": "d6169700",
   "metadata": {},
   "outputs": [],
   "source": [
    "scrape_metrics = ['possession', 'passing'] #sections which have the relevant metrics on fbref\n",
    "seasons = ['2017-2018', '2018-2019', '2019-2020', '2020-2021', '2021-2022'] #list of all seasons available on fbref"
   ]
  },
  {
   "cell_type": "code",
   "execution_count": 18,
   "id": "42c8a440",
   "metadata": {},
   "outputs": [],
   "source": [
    "def scrape_url(entity, season, metric):\n",
    "    if season == '2021-2022':\n",
    "        df = pd.read_html(f'https://fbref.com/en/comps/Big5/{metric}/{entity}/Big-5-European-Leagues-Stats')\n",
    "    else:\n",
    "        df = pd.read_html(f'https://fbref.com/en/comps/Big5/{season}/{metric}/{entity}/{season}-Big-5-European-Leagues-Stats')\n",
    "    df = df[0]\n",
    "    return df"
   ]
  },
  {
   "cell_type": "code",
   "execution_count": 19,
   "id": "4f60b262",
   "metadata": {},
   "outputs": [],
   "source": [
    "team_poss = scrape_url('squads', seasons[-1], scrape_metrics[0])\n",
    "team_passing = scrape_url('squads', seasons[-1], scrape_metrics[-1])\n",
    "player_poss = scrape_url('players', seasons[-1], scrape_metrics[0])\n",
    "player_passing = scrape_url('players', seasons[-1], scrape_metrics[-1])"
   ]
  },
  {
   "cell_type": "markdown",
   "id": "226dd6b6",
   "metadata": {},
   "source": [
    "## Data Wrangling"
   ]
  },
  {
   "cell_type": "code",
   "execution_count": 5,
   "id": "edc6325f",
   "metadata": {},
   "outputs": [],
   "source": [
    "#columns to rename to avoid duplication when extracting the specific columns(Lot of columns in different multi-column have same name)\n",
    "col_names1 = {('Carries', 'Prog') : ('Carries', 'Progressive Carries')}\n",
    "col_names2 = {('Total', 'Cmp') : ('Total', 'Passes Completed')}"
   ]
  },
  {
   "cell_type": "code",
   "execution_count": 21,
   "id": "1ef0870c",
   "metadata": {},
   "outputs": [],
   "source": [
    "def clean_df(df, entity, col_rename):\n",
    "    df.columns = df.columns.values\n",
    "    df.columns = pd.MultiIndex.from_tuples(df.rename(columns=col_rename))\n",
    "    df.columns = df.columns.droplevel(0)\n",
    "    if entity == 'players':\n",
    "        df_range = df.shape[0]\n",
    "        #loop to remove every 26th row since these rows contains player names in all columns instead of numeric values\n",
    "        for i in range(25, df_range, 26):\n",
    "            df.drop(i, axis=0, inplace=True)\n",
    "        df['90s'] = pd.to_numeric(df['90s'])\n",
    "    return df"
   ]
  },
  {
   "cell_type": "code",
   "execution_count": 22,
   "id": "62098b38",
   "metadata": {},
   "outputs": [],
   "source": [
    "team_poss = clean_df(team_poss, 'squads', col_names1)\n",
    "team_passing = clean_df(team_passing, 'squads', col_names2)\n",
    "player_poss = clean_df(player_poss, 'players', col_names1)\n",
    "player_passing = clean_df(player_passing, 'players', col_names2)"
   ]
  },
  {
   "cell_type": "code",
   "execution_count": 31,
   "id": "d4bc9d51",
   "metadata": {},
   "outputs": [],
   "source": [
    "#converting from object to numeric column types\n",
    "player_poss['Progressive Carries'] = pd.to_numeric(player_poss['Progressive Carries'])\n",
    "player_passing['Prog'] = pd.to_numeric(player_passing['Prog'])\n",
    "player_passing['Passes Completed'] = pd.to_numeric(player_passing['Passes Completed'])"
   ]
  },
  {
   "cell_type": "code",
   "execution_count": 32,
   "id": "05decc48",
   "metadata": {},
   "outputs": [],
   "source": [
    "#converting the relevant column values to per 90 values\n",
    "team_poss['Progressive Carries'] = team_poss['Progressive Carries']/team_poss['90s']\n",
    "player_poss['Progressive Carries'] = player_poss['Progressive Carries']/player_poss['90s']\n",
    "team_passing['Prog'] = team_passing['Prog']/team_passing['90s']\n",
    "team_passing['Passes Completed'] = team_passing['Passes Completed']/team_passing['90s']\n",
    "player_passing['Prog'] = player_passing['Prog']/player_passing['90s']\n",
    "player_passing['Passes Completed'] = player_passing['Passes Completed']/player_passing['90s']"
   ]
  },
  {
   "cell_type": "code",
   "execution_count": 33,
   "id": "4c2bf96d",
   "metadata": {},
   "outputs": [],
   "source": [
    "#creating dict which we will later use to map to a single dataframe i.e. player_passing\n",
    "team_carries = dict(zip(team_poss['Squad'], team_poss['Progressive Carries']))\n",
    "player_carries = dict(zip(player_poss['Player'], player_poss['Progressive Carries']))\n",
    "team_progressive = dict(zip(team_passing['Squad'], team_passing['Prog']))\n",
    "team_totalpass = dict(zip(team_passing['Squad'], team_passing['Passes Completed']))"
   ]
  },
  {
   "cell_type": "code",
   "execution_count": 34,
   "id": "bc024e33",
   "metadata": {},
   "outputs": [],
   "source": [
    "player_passing['Team Total Carries'] = player_passing['Squad'].map(team_carries)\n",
    "player_passing['Player Total Carries'] = player_passing['Player'].map(player_carries)\n",
    "player_passing['Team Prog'] = player_passing['Squad'].map(team_progressive)\n",
    "player_passing['Team Total Passes'] = player_passing['Squad'].map(team_totalpass)"
   ]
  },
  {
   "cell_type": "code",
   "execution_count": 35,
   "id": "4d019b1f",
   "metadata": {},
   "outputs": [],
   "source": [
    "#combining progressive passes and carries into a single column: progressive actions\n",
    "player_passing['Team Progressive Actions'] = player_passing['Team Prog'] + player_passing['Team Total Carries']\n",
    "player_passing['Player Progressive Actions'] = player_passing['Prog'] + player_passing['Player Total Carries']"
   ]
  },
  {
   "cell_type": "code",
   "execution_count": 36,
   "id": "6daa4ab7",
   "metadata": {},
   "outputs": [],
   "source": [
    "#calculating the % in relation to team's total for both our relevant metrics\n",
    "player_passing['Prog% Of Team Total'] = round(player_passing['Player Progressive Actions']/player_passing['Team Progressive Actions']*100, 2)\n",
    "player_passing['Pass% Of Team Total'] = round(player_passing['Passes Completed']/player_passing['Team Total Passes']*100, 2)"
   ]
  },
  {
   "cell_type": "code",
   "execution_count": 37,
   "id": "1d8d03be",
   "metadata": {},
   "outputs": [],
   "source": [
    "player_passing2 = player_passing.copy()"
   ]
  },
  {
   "cell_type": "code",
   "execution_count": 38,
   "id": "29556d3f",
   "metadata": {},
   "outputs": [],
   "source": [
    "#keeping the relevant columns\n",
    "player_passing2 = player_passing2[['Player', 'Pos', 'Comp', 'Squad', '90s', 'Prog% Of Team Total', 'Pass% Of Team Total',\n",
    "                         'Prog', 'Passes Completed', 'Team Prog', 'Team Total Passes', 'Team Progressive Actions',\n",
    "                         'Player Progressive Actions']]"
   ]
  },
  {
   "cell_type": "code",
   "execution_count": 39,
   "id": "0a84792d",
   "metadata": {},
   "outputs": [
    {
     "data": {
      "text/plain": [
       "(2764, 13)"
      ]
     },
     "execution_count": 39,
     "metadata": {},
     "output_type": "execute_result"
    }
   ],
   "source": [
    "player_passing2.shape"
   ]
  },
  {
   "cell_type": "code",
   "execution_count": 40,
   "id": "014f15c7",
   "metadata": {},
   "outputs": [
    {
     "data": {
      "text/plain": [
       "array(['DF', 'MF', 'FW', 'FW,MF', 'MF,FW', 'GK', 'DF,MF', 'FW,DF',\n",
       "       'MF,DF', 'DF,FW', 'GK,MF'], dtype=object)"
      ]
     },
     "execution_count": 40,
     "metadata": {},
     "output_type": "execute_result"
    }
   ],
   "source": [
    "player_passing2['Pos'].unique()"
   ]
  },
  {
   "cell_type": "code",
   "execution_count": 41,
   "id": "0919f60c",
   "metadata": {},
   "outputs": [],
   "source": [
    "#iltering out for defensive players\n",
    "defender_df = player_passing2[(player_passing2['Pos'] == 'DF') | (player_passing2['Pos'] == 'DF,MF') | \n",
    "                              (player_passing2['Pos'] == 'MF,DF')]"
   ]
  },
  {
   "cell_type": "code",
   "execution_count": 43,
   "id": "150ab87e",
   "metadata": {},
   "outputs": [
    {
     "data": {
      "text/plain": [
       "(656, 13)"
      ]
     },
     "execution_count": 43,
     "metadata": {},
     "output_type": "execute_result"
    }
   ],
   "source": [
    "defender_df.shape"
   ]
  },
  {
   "cell_type": "markdown",
   "id": "44d054c9",
   "metadata": {},
   "source": [
    "• Now we will further filter the data for only a specific league i.e. Premier League. \n",
    "\n",
    "• An important reason for choosing the Premier League is that I will still need to further filter down to centre-backs only whereas Fbref doesn't contain specific positions. I have a self collected events data file for PL season 21/22 from https://www.whoscored.com/ which will help us to map the specific player names and filter to only centre-backs in our main dataset."
   ]
  },
  {
   "cell_type": "code",
   "execution_count": 48,
   "id": "25f96231",
   "metadata": {},
   "outputs": [],
   "source": [
    "prem_df = defender_df[defender_df['Comp'] == 'eng Premier League']"
   ]
  },
  {
   "cell_type": "code",
   "execution_count": 49,
   "id": "6c40b0cc",
   "metadata": {},
   "outputs": [
    {
     "data": {
      "text/plain": [
       "(131, 13)"
      ]
     },
     "execution_count": 49,
     "metadata": {},
     "output_type": "execute_result"
    }
   ],
   "source": [
    "prem_df.shape"
   ]
  },
  {
   "cell_type": "markdown",
   "id": "55c20751",
   "metadata": {},
   "source": [
    "## Player Position Mapping Using Whoscored Data"
   ]
  },
  {
   "cell_type": "code",
   "execution_count": 50,
   "id": "6a100170",
   "metadata": {},
   "outputs": [
    {
     "name": "stderr",
     "output_type": "stream",
     "text": [
      "C:\\Users\\shivank\\AppData\\Roaming\\Python\\Python38\\site-packages\\IPython\\core\\interactiveshell.py:3418: DtypeWarning: Columns (33) have mixed types.Specify dtype option on import or set low_memory=False.\n",
      "  exec(code_obj, self.user_global_ns, self.user_ns)\n"
     ]
    }
   ],
   "source": [
    "pl_pass = pd.read_csv('PL_passdata_2022.csv')"
   ]
  },
  {
   "cell_type": "code",
   "execution_count": 51,
   "id": "cde56f72",
   "metadata": {},
   "outputs": [],
   "source": [
    "pl_pass2  = pl_pass.copy()"
   ]
  },
  {
   "cell_type": "code",
   "execution_count": 52,
   "id": "af586ef9",
   "metadata": {},
   "outputs": [],
   "source": [
    "pl_pass2 = pl_pass2[pl_pass2['name'].notna()]"
   ]
  },
  {
   "cell_type": "code",
   "execution_count": 53,
   "id": "19e3ce62",
   "metadata": {},
   "outputs": [],
   "source": [
    "pos_dict = dict(zip(pl_pass2['name'], pl_pass2['position']))"
   ]
  },
  {
   "cell_type": "code",
   "execution_count": 56,
   "id": "dd9dffa1",
   "metadata": {},
   "outputs": [
    {
     "name": "stderr",
     "output_type": "stream",
     "text": [
      "<ipython-input-56-fb6f15f3a130>:1: SettingWithCopyWarning: \n",
      "A value is trying to be set on a copy of a slice from a DataFrame.\n",
      "Try using .loc[row_indexer,col_indexer] = value instead\n",
      "\n",
      "See the caveats in the documentation: https://pandas.pydata.org/pandas-docs/stable/user_guide/indexing.html#returning-a-view-versus-a-copy\n",
      "  prem_df['Position'] = prem_df['Player'].map(pos_dict)\n"
     ]
    }
   ],
   "source": [
    "prem_df['Position'] = prem_df['Player'].map(pos_dict)"
   ]
  },
  {
   "cell_type": "code",
   "execution_count": 54,
   "id": "6b3e0a95",
   "metadata": {},
   "outputs": [
    {
     "name": "stderr",
     "output_type": "stream",
     "text": [
      "C:\\Users\\shivank\\anaconda3\\lib\\site-packages\\pandas\\core\\frame.py:4906: SettingWithCopyWarning: \n",
      "A value is trying to be set on a copy of a slice from a DataFrame\n",
      "\n",
      "See the caveats in the documentation: https://pandas.pydata.org/pandas-docs/stable/user_guide/indexing.html#returning-a-view-versus-a-copy\n",
      "  return super().drop(\n"
     ]
    }
   ],
   "source": [
    "prem_df.drop('Pos', axis=1, inplace=True)"
   ]
  },
  {
   "cell_type": "code",
   "execution_count": 57,
   "id": "71cb6f38",
   "metadata": {},
   "outputs": [
    {
     "data": {
      "text/plain": [
       "array(['DR', nan, 'DC', 'DL', 'DMR', 'Sub', 'MC', 'DML', 'DMC'],\n",
       "      dtype=object)"
      ]
     },
     "execution_count": 57,
     "metadata": {},
     "output_type": "execute_result"
    }
   ],
   "source": [
    "prem_df['Position'].unique()"
   ]
  },
  {
   "cell_type": "markdown",
   "id": "0bb64286",
   "metadata": {},
   "source": [
    "• Despite mapping the player names to their respective positions we still have some Nan values. This is probably because some names dont match up in our main dataset(from fbref) with the whoscored one. For this, we will simply have to see the names and check which of those are CB's and replace the Nan values accordingly."
   ]
  },
  {
   "cell_type": "code",
   "execution_count": 58,
   "id": "e45073d9",
   "metadata": {},
   "outputs": [],
   "source": [
    "nan_df = prem_df[prem_df['Position'].isnull()]"
   ]
  },
  {
   "cell_type": "code",
   "execution_count": 59,
   "id": "3c79891d",
   "metadata": {},
   "outputs": [
    {
     "data": {
      "text/html": [
       "<div>\n",
       "<style scoped>\n",
       "    .dataframe tbody tr th:only-of-type {\n",
       "        vertical-align: middle;\n",
       "    }\n",
       "\n",
       "    .dataframe tbody tr th {\n",
       "        vertical-align: top;\n",
       "    }\n",
       "\n",
       "    .dataframe thead th {\n",
       "        text-align: right;\n",
       "    }\n",
       "</style>\n",
       "<table border=\"1\" class=\"dataframe\">\n",
       "  <thead>\n",
       "    <tr style=\"text-align: right;\">\n",
       "      <th></th>\n",
       "      <th>Player</th>\n",
       "      <th>Comp</th>\n",
       "      <th>Squad</th>\n",
       "      <th>90s</th>\n",
       "      <th>Prog% Of Team Total</th>\n",
       "      <th>Pass% Of Team Total</th>\n",
       "      <th>Prog</th>\n",
       "      <th>Passes Completed</th>\n",
       "      <th>Team Prog</th>\n",
       "      <th>Team Total Passes</th>\n",
       "      <th>Team Progressive Actions</th>\n",
       "      <th>Player Progressive Actions</th>\n",
       "      <th>Position</th>\n",
       "    </tr>\n",
       "  </thead>\n",
       "  <tbody>\n",
       "    <tr>\n",
       "      <th>34</th>\n",
       "      <td>Rayan Aït Nouri</td>\n",
       "      <td>eng Premier League</td>\n",
       "      <td>Wolves</td>\n",
       "      <td>13.3</td>\n",
       "      <td>11.51</td>\n",
       "      <td>9.72</td>\n",
       "      <td>1.804511</td>\n",
       "      <td>35.939850</td>\n",
       "      <td>26.520000</td>\n",
       "      <td>369.800000</td>\n",
       "      <td>65.960000</td>\n",
       "      <td>7.593985</td>\n",
       "      <td>NaN</td>\n",
       "    </tr>\n",
       "    <tr>\n",
       "      <th>465</th>\n",
       "      <td>Matty Cash</td>\n",
       "      <td>eng Premier League</td>\n",
       "      <td>Aston Villa</td>\n",
       "      <td>23.5</td>\n",
       "      <td>10.65</td>\n",
       "      <td>9.13</td>\n",
       "      <td>2.765957</td>\n",
       "      <td>29.106383</td>\n",
       "      <td>31.125000</td>\n",
       "      <td>318.666667</td>\n",
       "      <td>65.500000</td>\n",
       "      <td>6.978723</td>\n",
       "      <td>NaN</td>\n",
       "    </tr>\n",
       "    <tr>\n",
       "      <th>569</th>\n",
       "      <td>Vladimír Coufal</td>\n",
       "      <td>eng Premier League</td>\n",
       "      <td>West Ham</td>\n",
       "      <td>18.7</td>\n",
       "      <td>11.32</td>\n",
       "      <td>10.86</td>\n",
       "      <td>4.385027</td>\n",
       "      <td>39.090909</td>\n",
       "      <td>30.307692</td>\n",
       "      <td>359.923077</td>\n",
       "      <td>68.961538</td>\n",
       "      <td>7.807487</td>\n",
       "      <td>NaN</td>\n",
       "    </tr>\n",
       "    <tr>\n",
       "      <th>748</th>\n",
       "      <td>Gabriel Dos Santos</td>\n",
       "      <td>eng Premier League</td>\n",
       "      <td>Arsenal</td>\n",
       "      <td>20.4</td>\n",
       "      <td>6.38</td>\n",
       "      <td>12.35</td>\n",
       "      <td>1.666667</td>\n",
       "      <td>49.705882</td>\n",
       "      <td>30.458333</td>\n",
       "      <td>402.625000</td>\n",
       "      <td>78.375000</td>\n",
       "      <td>5.000000</td>\n",
       "      <td>NaN</td>\n",
       "    </tr>\n",
       "    <tr>\n",
       "      <th>1360</th>\n",
       "      <td>Max Kilman</td>\n",
       "      <td>eng Premier League</td>\n",
       "      <td>Wolves</td>\n",
       "      <td>25.0</td>\n",
       "      <td>10.01</td>\n",
       "      <td>10.88</td>\n",
       "      <td>3.040000</td>\n",
       "      <td>40.240000</td>\n",
       "      <td>26.520000</td>\n",
       "      <td>369.800000</td>\n",
       "      <td>65.960000</td>\n",
       "      <td>6.600000</td>\n",
       "      <td>NaN</td>\n",
       "    </tr>\n",
       "    <tr>\n",
       "      <th>1632</th>\n",
       "      <td>Fernando Marçal</td>\n",
       "      <td>eng Premier League</td>\n",
       "      <td>Wolves</td>\n",
       "      <td>11.3</td>\n",
       "      <td>13.68</td>\n",
       "      <td>10.86</td>\n",
       "      <td>3.185841</td>\n",
       "      <td>40.176991</td>\n",
       "      <td>26.520000</td>\n",
       "      <td>369.800000</td>\n",
       "      <td>65.960000</td>\n",
       "      <td>9.026549</td>\n",
       "      <td>NaN</td>\n",
       "    </tr>\n",
       "    <tr>\n",
       "      <th>1684</th>\n",
       "      <td>Joël Matip</td>\n",
       "      <td>eng Premier League</td>\n",
       "      <td>Liverpool</td>\n",
       "      <td>21.0</td>\n",
       "      <td>12.70</td>\n",
       "      <td>12.38</td>\n",
       "      <td>5.428571</td>\n",
       "      <td>66.761905</td>\n",
       "      <td>52.769231</td>\n",
       "      <td>539.230769</td>\n",
       "      <td>114.346154</td>\n",
       "      <td>14.523810</td>\n",
       "      <td>NaN</td>\n",
       "    </tr>\n",
       "    <tr>\n",
       "      <th>2363</th>\n",
       "      <td>Samir Santos</td>\n",
       "      <td>eng Premier League</td>\n",
       "      <td>Watford</td>\n",
       "      <td>7.0</td>\n",
       "      <td>6.58</td>\n",
       "      <td>13.03</td>\n",
       "      <td>1.571429</td>\n",
       "      <td>35.857143</td>\n",
       "      <td>25.120000</td>\n",
       "      <td>275.160000</td>\n",
       "      <td>53.720000</td>\n",
       "      <td>3.535714</td>\n",
       "      <td>NaN</td>\n",
       "    </tr>\n",
       "    <tr>\n",
       "      <th>2507</th>\n",
       "      <td>Çağlar Söyüncü</td>\n",
       "      <td>eng Premier League</td>\n",
       "      <td>Leicester City</td>\n",
       "      <td>19.7</td>\n",
       "      <td>5.96</td>\n",
       "      <td>13.81</td>\n",
       "      <td>1.928934</td>\n",
       "      <td>53.857868</td>\n",
       "      <td>29.478261</td>\n",
       "      <td>389.956522</td>\n",
       "      <td>64.782609</td>\n",
       "      <td>3.857868</td>\n",
       "      <td>NaN</td>\n",
       "    </tr>\n",
       "    <tr>\n",
       "      <th>2670</th>\n",
       "      <td>Kostas Tsimikas</td>\n",
       "      <td>eng Premier League</td>\n",
       "      <td>Liverpool</td>\n",
       "      <td>7.4</td>\n",
       "      <td>11.35</td>\n",
       "      <td>8.82</td>\n",
       "      <td>4.729730</td>\n",
       "      <td>47.567568</td>\n",
       "      <td>52.769231</td>\n",
       "      <td>539.230769</td>\n",
       "      <td>114.346154</td>\n",
       "      <td>12.972973</td>\n",
       "      <td>NaN</td>\n",
       "    </tr>\n",
       "    <tr>\n",
       "      <th>2793</th>\n",
       "      <td>Ben White</td>\n",
       "      <td>eng Premier League</td>\n",
       "      <td>Arsenal</td>\n",
       "      <td>22.0</td>\n",
       "      <td>6.96</td>\n",
       "      <td>11.03</td>\n",
       "      <td>2.636364</td>\n",
       "      <td>44.409091</td>\n",
       "      <td>30.458333</td>\n",
       "      <td>402.625000</td>\n",
       "      <td>78.375000</td>\n",
       "      <td>5.454545</td>\n",
       "      <td>NaN</td>\n",
       "    </tr>\n",
       "  </tbody>\n",
       "</table>\n",
       "</div>"
      ],
      "text/plain": [
       "                  Player                Comp           Squad   90s  \\\n",
       "34       Rayan Aït Nouri  eng Premier League          Wolves  13.3   \n",
       "465           Matty Cash  eng Premier League     Aston Villa  23.5   \n",
       "569      Vladimír Coufal  eng Premier League        West Ham  18.7   \n",
       "748   Gabriel Dos Santos  eng Premier League         Arsenal  20.4   \n",
       "1360          Max Kilman  eng Premier League          Wolves  25.0   \n",
       "1632     Fernando Marçal  eng Premier League          Wolves  11.3   \n",
       "1684          Joël Matip  eng Premier League       Liverpool  21.0   \n",
       "2363        Samir Santos  eng Premier League         Watford   7.0   \n",
       "2507      Çağlar Söyüncü  eng Premier League  Leicester City  19.7   \n",
       "2670     Kostas Tsimikas  eng Premier League       Liverpool   7.4   \n",
       "2793           Ben White  eng Premier League         Arsenal  22.0   \n",
       "\n",
       "      Prog% Of Team Total  Pass% Of Team Total      Prog  Passes Completed  \\\n",
       "34                  11.51                 9.72  1.804511         35.939850   \n",
       "465                 10.65                 9.13  2.765957         29.106383   \n",
       "569                 11.32                10.86  4.385027         39.090909   \n",
       "748                  6.38                12.35  1.666667         49.705882   \n",
       "1360                10.01                10.88  3.040000         40.240000   \n",
       "1632                13.68                10.86  3.185841         40.176991   \n",
       "1684                12.70                12.38  5.428571         66.761905   \n",
       "2363                 6.58                13.03  1.571429         35.857143   \n",
       "2507                 5.96                13.81  1.928934         53.857868   \n",
       "2670                11.35                 8.82  4.729730         47.567568   \n",
       "2793                 6.96                11.03  2.636364         44.409091   \n",
       "\n",
       "      Team Prog  Team Total Passes  Team Progressive Actions  \\\n",
       "34    26.520000         369.800000                 65.960000   \n",
       "465   31.125000         318.666667                 65.500000   \n",
       "569   30.307692         359.923077                 68.961538   \n",
       "748   30.458333         402.625000                 78.375000   \n",
       "1360  26.520000         369.800000                 65.960000   \n",
       "1632  26.520000         369.800000                 65.960000   \n",
       "1684  52.769231         539.230769                114.346154   \n",
       "2363  25.120000         275.160000                 53.720000   \n",
       "2507  29.478261         389.956522                 64.782609   \n",
       "2670  52.769231         539.230769                114.346154   \n",
       "2793  30.458333         402.625000                 78.375000   \n",
       "\n",
       "      Player Progressive Actions Position  \n",
       "34                      7.593985      NaN  \n",
       "465                     6.978723      NaN  \n",
       "569                     7.807487      NaN  \n",
       "748                     5.000000      NaN  \n",
       "1360                    6.600000      NaN  \n",
       "1632                    9.026549      NaN  \n",
       "1684                   14.523810      NaN  \n",
       "2363                    3.535714      NaN  \n",
       "2507                    3.857868      NaN  \n",
       "2670                   12.972973      NaN  \n",
       "2793                    5.454545      NaN  "
      ]
     },
     "execution_count": 59,
     "metadata": {},
     "output_type": "execute_result"
    }
   ],
   "source": [
    "nan_df"
   ]
  },
  {
   "cell_type": "code",
   "execution_count": 60,
   "id": "9c228445",
   "metadata": {},
   "outputs": [],
   "source": [
    "nan_df = nan_df[(nan_df['Player']=='Gabriel Dos Santos') | (nan_df['Player']=='Joël Matip') |\n",
    "               (nan_df['Player']=='Çağlar Söyüncü') | (nan_df['Player']=='Ben White') |\n",
    "               (nan_df['Player']=='Max Kilman')]"
   ]
  },
  {
   "cell_type": "code",
   "execution_count": 61,
   "id": "17a30d19",
   "metadata": {},
   "outputs": [
    {
     "data": {
      "text/plain": [
       "array([ 748, 1360, 1684, 2507, 2793], dtype=int64)"
      ]
     },
     "execution_count": 61,
     "metadata": {},
     "output_type": "execute_result"
    }
   ],
   "source": [
    "nan_df.index.values"
   ]
  },
  {
   "cell_type": "code",
   "execution_count": 62,
   "id": "09e0949b",
   "metadata": {},
   "outputs": [
    {
     "name": "stderr",
     "output_type": "stream",
     "text": [
      "C:\\Users\\shivank\\anaconda3\\lib\\site-packages\\pandas\\core\\indexing.py:1817: SettingWithCopyWarning: \n",
      "A value is trying to be set on a copy of a slice from a DataFrame.\n",
      "Try using .loc[row_indexer,col_indexer] = value instead\n",
      "\n",
      "See the caveats in the documentation: https://pandas.pydata.org/pandas-docs/stable/user_guide/indexing.html#returning-a-view-versus-a-copy\n",
      "  self._setitem_single_column(loc, value, pi)\n"
     ]
    }
   ],
   "source": [
    "for value in nan_df.index.values:\n",
    "    prem_df.loc[value, 'Position'] = 'DC'"
   ]
  },
  {
   "cell_type": "markdown",
   "id": "434b5a45",
   "metadata": {},
   "source": [
    "• Position also contains 'Sub' as one of the categories. This means some players got mapped to 'Sub' instead of their position. Again, we will repeat the same process of what we did previously and check the palyer names of such players and replace the 'Sub' values accordingly."
   ]
  },
  {
   "cell_type": "code",
   "execution_count": 63,
   "id": "f88b62f6",
   "metadata": {},
   "outputs": [
    {
     "data": {
      "text/html": [
       "<div>\n",
       "<style scoped>\n",
       "    .dataframe tbody tr th:only-of-type {\n",
       "        vertical-align: middle;\n",
       "    }\n",
       "\n",
       "    .dataframe tbody tr th {\n",
       "        vertical-align: top;\n",
       "    }\n",
       "\n",
       "    .dataframe thead th {\n",
       "        text-align: right;\n",
       "    }\n",
       "</style>\n",
       "<table border=\"1\" class=\"dataframe\">\n",
       "  <thead>\n",
       "    <tr style=\"text-align: right;\">\n",
       "      <th></th>\n",
       "      <th>Player</th>\n",
       "      <th>Comp</th>\n",
       "      <th>Squad</th>\n",
       "      <th>90s</th>\n",
       "      <th>Prog% Of Team Total</th>\n",
       "      <th>Pass% Of Team Total</th>\n",
       "      <th>Prog</th>\n",
       "      <th>Passes Completed</th>\n",
       "      <th>Team Prog</th>\n",
       "      <th>Team Total Passes</th>\n",
       "      <th>Team Progressive Actions</th>\n",
       "      <th>Player Progressive Actions</th>\n",
       "      <th>Position</th>\n",
       "    </tr>\n",
       "  </thead>\n",
       "  <tbody>\n",
       "    <tr>\n",
       "      <th>526</th>\n",
       "      <td>Ciaran Clark</td>\n",
       "      <td>eng Premier League</td>\n",
       "      <td>Newcastle Utd</td>\n",
       "      <td>11.3</td>\n",
       "      <td>5.36</td>\n",
       "      <td>9.46</td>\n",
       "      <td>1.327434</td>\n",
       "      <td>24.424779</td>\n",
       "      <td>18.166667</td>\n",
       "      <td>258.291667</td>\n",
       "      <td>46.250000</td>\n",
       "      <td>2.477876</td>\n",
       "      <td>Sub</td>\n",
       "    </tr>\n",
       "    <tr>\n",
       "      <th>771</th>\n",
       "      <td>Shane Duffy</td>\n",
       "      <td>eng Premier League</td>\n",
       "      <td>Brighton</td>\n",
       "      <td>14.0</td>\n",
       "      <td>4.15</td>\n",
       "      <td>12.03</td>\n",
       "      <td>1.714286</td>\n",
       "      <td>54.500000</td>\n",
       "      <td>32.600000</td>\n",
       "      <td>453.200000</td>\n",
       "      <td>75.800000</td>\n",
       "      <td>3.142857</td>\n",
       "      <td>Sub</td>\n",
       "    </tr>\n",
       "    <tr>\n",
       "      <th>809</th>\n",
       "      <td>Emerson</td>\n",
       "      <td>eng Premier League</td>\n",
       "      <td>Tottenham</td>\n",
       "      <td>16.5</td>\n",
       "      <td>8.74</td>\n",
       "      <td>11.06</td>\n",
       "      <td>3.454545</td>\n",
       "      <td>46.969697</td>\n",
       "      <td>35.708333</td>\n",
       "      <td>424.791667</td>\n",
       "      <td>85.250000</td>\n",
       "      <td>7.454545</td>\n",
       "      <td>Sub</td>\n",
       "    </tr>\n",
       "    <tr>\n",
       "      <th>980</th>\n",
       "      <td>Dimitris Giannoulis</td>\n",
       "      <td>eng Premier League</td>\n",
       "      <td>Norwich City</td>\n",
       "      <td>6.1</td>\n",
       "      <td>13.27</td>\n",
       "      <td>12.90</td>\n",
       "      <td>2.622951</td>\n",
       "      <td>40.655738</td>\n",
       "      <td>24.160000</td>\n",
       "      <td>315.240000</td>\n",
       "      <td>54.360000</td>\n",
       "      <td>7.213115</td>\n",
       "      <td>Sub</td>\n",
       "    </tr>\n",
       "    <tr>\n",
       "      <th>1567</th>\n",
       "      <td>Lyanco</td>\n",
       "      <td>eng Premier League</td>\n",
       "      <td>Southampton</td>\n",
       "      <td>6.1</td>\n",
       "      <td>5.24</td>\n",
       "      <td>8.15</td>\n",
       "      <td>1.967213</td>\n",
       "      <td>26.229508</td>\n",
       "      <td>27.960000</td>\n",
       "      <td>321.960000</td>\n",
       "      <td>68.840000</td>\n",
       "      <td>3.606557</td>\n",
       "      <td>Sub</td>\n",
       "    </tr>\n",
       "    <tr>\n",
       "      <th>1626</th>\n",
       "      <td>Javier Manquillo</td>\n",
       "      <td>eng Premier League</td>\n",
       "      <td>Newcastle Utd</td>\n",
       "      <td>12.3</td>\n",
       "      <td>5.63</td>\n",
       "      <td>8.06</td>\n",
       "      <td>1.300813</td>\n",
       "      <td>20.813008</td>\n",
       "      <td>18.166667</td>\n",
       "      <td>258.291667</td>\n",
       "      <td>46.250000</td>\n",
       "      <td>2.601626</td>\n",
       "      <td>Sub</td>\n",
       "    </tr>\n",
       "    <tr>\n",
       "      <th>1774</th>\n",
       "      <td>James Milner</td>\n",
       "      <td>eng Premier League</td>\n",
       "      <td>Liverpool</td>\n",
       "      <td>7.0</td>\n",
       "      <td>10.12</td>\n",
       "      <td>11.37</td>\n",
       "      <td>7.142857</td>\n",
       "      <td>61.285714</td>\n",
       "      <td>52.769231</td>\n",
       "      <td>539.230769</td>\n",
       "      <td>114.346154</td>\n",
       "      <td>11.571429</td>\n",
       "      <td>Sub</td>\n",
       "    </tr>\n",
       "    <tr>\n",
       "      <th>1855</th>\n",
       "      <td>Jacob Murphy</td>\n",
       "      <td>eng Premier League</td>\n",
       "      <td>Newcastle Utd</td>\n",
       "      <td>10.1</td>\n",
       "      <td>21.62</td>\n",
       "      <td>10.08</td>\n",
       "      <td>2.871287</td>\n",
       "      <td>26.039604</td>\n",
       "      <td>18.166667</td>\n",
       "      <td>258.291667</td>\n",
       "      <td>46.250000</td>\n",
       "      <td>10.000000</td>\n",
       "      <td>Sub</td>\n",
       "    </tr>\n",
       "    <tr>\n",
       "      <th>1902</th>\n",
       "      <td>Jeremy Ngakia</td>\n",
       "      <td>eng Premier League</td>\n",
       "      <td>Watford</td>\n",
       "      <td>6.3</td>\n",
       "      <td>10.93</td>\n",
       "      <td>11.83</td>\n",
       "      <td>3.174603</td>\n",
       "      <td>32.539683</td>\n",
       "      <td>25.120000</td>\n",
       "      <td>275.160000</td>\n",
       "      <td>53.720000</td>\n",
       "      <td>5.873016</td>\n",
       "      <td>Sub</td>\n",
       "    </tr>\n",
       "    <tr>\n",
       "      <th>2578</th>\n",
       "      <td>Nuno Tavares</td>\n",
       "      <td>eng Premier League</td>\n",
       "      <td>Arsenal</td>\n",
       "      <td>7.0</td>\n",
       "      <td>12.21</td>\n",
       "      <td>11.85</td>\n",
       "      <td>1.857143</td>\n",
       "      <td>47.714286</td>\n",
       "      <td>30.458333</td>\n",
       "      <td>402.625000</td>\n",
       "      <td>78.375000</td>\n",
       "      <td>9.571429</td>\n",
       "      <td>Sub</td>\n",
       "    </tr>\n",
       "    <tr>\n",
       "      <th>2628</th>\n",
       "      <td>James Tomkins</td>\n",
       "      <td>eng Premier League</td>\n",
       "      <td>Crystal Palace</td>\n",
       "      <td>6.1</td>\n",
       "      <td>4.21</td>\n",
       "      <td>11.38</td>\n",
       "      <td>1.475410</td>\n",
       "      <td>45.245902</td>\n",
       "      <td>28.384615</td>\n",
       "      <td>397.423077</td>\n",
       "      <td>66.230769</td>\n",
       "      <td>2.786885</td>\n",
       "      <td>Sub</td>\n",
       "    </tr>\n",
       "  </tbody>\n",
       "</table>\n",
       "</div>"
      ],
      "text/plain": [
       "                   Player                Comp           Squad   90s  \\\n",
       "526          Ciaran Clark  eng Premier League   Newcastle Utd  11.3   \n",
       "771           Shane Duffy  eng Premier League        Brighton  14.0   \n",
       "809               Emerson  eng Premier League       Tottenham  16.5   \n",
       "980   Dimitris Giannoulis  eng Premier League    Norwich City   6.1   \n",
       "1567               Lyanco  eng Premier League     Southampton   6.1   \n",
       "1626     Javier Manquillo  eng Premier League   Newcastle Utd  12.3   \n",
       "1774         James Milner  eng Premier League       Liverpool   7.0   \n",
       "1855         Jacob Murphy  eng Premier League   Newcastle Utd  10.1   \n",
       "1902        Jeremy Ngakia  eng Premier League         Watford   6.3   \n",
       "2578         Nuno Tavares  eng Premier League         Arsenal   7.0   \n",
       "2628        James Tomkins  eng Premier League  Crystal Palace   6.1   \n",
       "\n",
       "      Prog% Of Team Total  Pass% Of Team Total      Prog  Passes Completed  \\\n",
       "526                  5.36                 9.46  1.327434         24.424779   \n",
       "771                  4.15                12.03  1.714286         54.500000   \n",
       "809                  8.74                11.06  3.454545         46.969697   \n",
       "980                 13.27                12.90  2.622951         40.655738   \n",
       "1567                 5.24                 8.15  1.967213         26.229508   \n",
       "1626                 5.63                 8.06  1.300813         20.813008   \n",
       "1774                10.12                11.37  7.142857         61.285714   \n",
       "1855                21.62                10.08  2.871287         26.039604   \n",
       "1902                10.93                11.83  3.174603         32.539683   \n",
       "2578                12.21                11.85  1.857143         47.714286   \n",
       "2628                 4.21                11.38  1.475410         45.245902   \n",
       "\n",
       "      Team Prog  Team Total Passes  Team Progressive Actions  \\\n",
       "526   18.166667         258.291667                 46.250000   \n",
       "771   32.600000         453.200000                 75.800000   \n",
       "809   35.708333         424.791667                 85.250000   \n",
       "980   24.160000         315.240000                 54.360000   \n",
       "1567  27.960000         321.960000                 68.840000   \n",
       "1626  18.166667         258.291667                 46.250000   \n",
       "1774  52.769231         539.230769                114.346154   \n",
       "1855  18.166667         258.291667                 46.250000   \n",
       "1902  25.120000         275.160000                 53.720000   \n",
       "2578  30.458333         402.625000                 78.375000   \n",
       "2628  28.384615         397.423077                 66.230769   \n",
       "\n",
       "      Player Progressive Actions Position  \n",
       "526                     2.477876      Sub  \n",
       "771                     3.142857      Sub  \n",
       "809                     7.454545      Sub  \n",
       "980                     7.213115      Sub  \n",
       "1567                    3.606557      Sub  \n",
       "1626                    2.601626      Sub  \n",
       "1774                   11.571429      Sub  \n",
       "1855                   10.000000      Sub  \n",
       "1902                    5.873016      Sub  \n",
       "2578                    9.571429      Sub  \n",
       "2628                    2.786885      Sub  "
      ]
     },
     "execution_count": 63,
     "metadata": {},
     "output_type": "execute_result"
    }
   ],
   "source": [
    "prem_df[prem_df['Position']=='Sub']"
   ]
  },
  {
   "cell_type": "code",
   "execution_count": 64,
   "id": "8277ba01",
   "metadata": {},
   "outputs": [],
   "source": [
    "index_values = [771, 526, 2628, 1567]"
   ]
  },
  {
   "cell_type": "code",
   "execution_count": 65,
   "id": "20df30c8",
   "metadata": {},
   "outputs": [
    {
     "name": "stderr",
     "output_type": "stream",
     "text": [
      "C:\\Users\\shivank\\anaconda3\\lib\\site-packages\\pandas\\core\\indexing.py:1817: SettingWithCopyWarning: \n",
      "A value is trying to be set on a copy of a slice from a DataFrame.\n",
      "Try using .loc[row_indexer,col_indexer] = value instead\n",
      "\n",
      "See the caveats in the documentation: https://pandas.pydata.org/pandas-docs/stable/user_guide/indexing.html#returning-a-view-versus-a-copy\n",
      "  self._setitem_single_column(loc, value, pi)\n"
     ]
    }
   ],
   "source": [
    "for value in index_values:\n",
    "    prem_df.loc[value, 'Position'] = 'DC'"
   ]
  },
  {
   "cell_type": "code",
   "execution_count": 66,
   "id": "893e2f15",
   "metadata": {},
   "outputs": [],
   "source": [
    "#filtering for all the centre-backs\n",
    "prem_df = prem_df[prem_df['Position'] == 'DC']"
   ]
  },
  {
   "cell_type": "code",
   "execution_count": 67,
   "id": "ac78f664",
   "metadata": {},
   "outputs": [
    {
     "data": {
      "text/plain": [
       "(61, 13)"
      ]
     },
     "execution_count": 67,
     "metadata": {},
     "output_type": "execute_result"
    }
   ],
   "source": [
    "prem_df.shape"
   ]
  },
  {
   "cell_type": "code",
   "execution_count": 68,
   "id": "15dd2254",
   "metadata": {},
   "outputs": [],
   "source": [
    "prem_df =  prem_df[prem_df['Player'].notna()]"
   ]
  },
  {
   "cell_type": "code",
   "execution_count": 69,
   "id": "bb65d03b",
   "metadata": {},
   "outputs": [
    {
     "data": {
      "text/plain": [
       "Player                        0\n",
       "Comp                          0\n",
       "Squad                         0\n",
       "90s                           0\n",
       "Prog% Of Team Total           0\n",
       "Pass% Of Team Total           0\n",
       "Prog                          0\n",
       "Passes Completed              0\n",
       "Team Prog                     0\n",
       "Team Total Passes             0\n",
       "Team Progressive Actions      0\n",
       "Player Progressive Actions    0\n",
       "Position                      0\n",
       "dtype: int64"
      ]
     },
     "execution_count": 69,
     "metadata": {},
     "output_type": "execute_result"
    }
   ],
   "source": [
    "prem_df.isnull().sum()"
   ]
  },
  {
   "cell_type": "code",
   "execution_count": 70,
   "id": "544edc43",
   "metadata": {},
   "outputs": [
    {
     "data": {
      "text/html": [
       "<div>\n",
       "<style scoped>\n",
       "    .dataframe tbody tr th:only-of-type {\n",
       "        vertical-align: middle;\n",
       "    }\n",
       "\n",
       "    .dataframe tbody tr th {\n",
       "        vertical-align: top;\n",
       "    }\n",
       "\n",
       "    .dataframe thead th {\n",
       "        text-align: right;\n",
       "    }\n",
       "</style>\n",
       "<table border=\"1\" class=\"dataframe\">\n",
       "  <thead>\n",
       "    <tr style=\"text-align: right;\">\n",
       "      <th></th>\n",
       "      <th>Player</th>\n",
       "      <th>Comp</th>\n",
       "      <th>Squad</th>\n",
       "      <th>90s</th>\n",
       "      <th>Prog% Of Team Total</th>\n",
       "      <th>Pass% Of Team Total</th>\n",
       "      <th>Prog</th>\n",
       "      <th>Passes Completed</th>\n",
       "      <th>Team Prog</th>\n",
       "      <th>Team Total Passes</th>\n",
       "      <th>Team Progressive Actions</th>\n",
       "      <th>Player Progressive Actions</th>\n",
       "      <th>Position</th>\n",
       "    </tr>\n",
       "  </thead>\n",
       "  <tbody>\n",
       "    <tr>\n",
       "      <th>1454</th>\n",
       "      <td>Aymeric Laporte</td>\n",
       "      <td>eng Premier League</td>\n",
       "      <td>Manchester City</td>\n",
       "      <td>20.1</td>\n",
       "      <td>13.47</td>\n",
       "      <td>13.38</td>\n",
       "      <td>6.467662</td>\n",
       "      <td>84.676617</td>\n",
       "      <td>45.807692</td>\n",
       "      <td>632.923077</td>\n",
       "      <td>131.153846</td>\n",
       "      <td>17.661692</td>\n",
       "      <td>DC</td>\n",
       "    </tr>\n",
       "    <tr>\n",
       "      <th>2786</th>\n",
       "      <td>Adam Webster</td>\n",
       "      <td>eng Premier League</td>\n",
       "      <td>Brighton</td>\n",
       "      <td>13.0</td>\n",
       "      <td>13.19</td>\n",
       "      <td>13.95</td>\n",
       "      <td>4.538462</td>\n",
       "      <td>63.230769</td>\n",
       "      <td>32.600000</td>\n",
       "      <td>453.200000</td>\n",
       "      <td>75.800000</td>\n",
       "      <td>10.000000</td>\n",
       "      <td>DC</td>\n",
       "    </tr>\n",
       "    <tr>\n",
       "      <th>1684</th>\n",
       "      <td>Joël Matip</td>\n",
       "      <td>eng Premier League</td>\n",
       "      <td>Liverpool</td>\n",
       "      <td>21.0</td>\n",
       "      <td>12.70</td>\n",
       "      <td>12.38</td>\n",
       "      <td>5.428571</td>\n",
       "      <td>66.761905</td>\n",
       "      <td>52.769231</td>\n",
       "      <td>539.230769</td>\n",
       "      <td>114.346154</td>\n",
       "      <td>14.523810</td>\n",
       "      <td>DC</td>\n",
       "    </tr>\n",
       "    <tr>\n",
       "      <th>628</th>\n",
       "      <td>Ben Davies</td>\n",
       "      <td>eng Premier League</td>\n",
       "      <td>Tottenham</td>\n",
       "      <td>14.3</td>\n",
       "      <td>12.55</td>\n",
       "      <td>10.70</td>\n",
       "      <td>4.125874</td>\n",
       "      <td>45.454545</td>\n",
       "      <td>35.708333</td>\n",
       "      <td>424.791667</td>\n",
       "      <td>85.250000</td>\n",
       "      <td>10.699301</td>\n",
       "      <td>DC</td>\n",
       "    </tr>\n",
       "    <tr>\n",
       "      <th>2451</th>\n",
       "      <td>Thiago Silva</td>\n",
       "      <td>eng Premier League</td>\n",
       "      <td>Chelsea</td>\n",
       "      <td>19.3</td>\n",
       "      <td>11.00</td>\n",
       "      <td>14.29</td>\n",
       "      <td>4.145078</td>\n",
       "      <td>72.176166</td>\n",
       "      <td>40.560000</td>\n",
       "      <td>505.120000</td>\n",
       "      <td>95.160000</td>\n",
       "      <td>10.466321</td>\n",
       "      <td>DC</td>\n",
       "    </tr>\n",
       "    <tr>\n",
       "      <th>35</th>\n",
       "      <td>Kristoffer Ajer</td>\n",
       "      <td>eng Premier League</td>\n",
       "      <td>Brentford</td>\n",
       "      <td>12.3</td>\n",
       "      <td>10.72</td>\n",
       "      <td>8.81</td>\n",
       "      <td>2.926829</td>\n",
       "      <td>25.853659</td>\n",
       "      <td>26.615385</td>\n",
       "      <td>293.538462</td>\n",
       "      <td>52.307692</td>\n",
       "      <td>5.609756</td>\n",
       "      <td>DC</td>\n",
       "    </tr>\n",
       "    <tr>\n",
       "      <th>2329</th>\n",
       "      <td>Mohammed Salisu</td>\n",
       "      <td>eng Premier League</td>\n",
       "      <td>Southampton</td>\n",
       "      <td>23.0</td>\n",
       "      <td>10.61</td>\n",
       "      <td>12.98</td>\n",
       "      <td>3.608696</td>\n",
       "      <td>41.782609</td>\n",
       "      <td>27.960000</td>\n",
       "      <td>321.960000</td>\n",
       "      <td>68.840000</td>\n",
       "      <td>7.304348</td>\n",
       "      <td>DC</td>\n",
       "    </tr>\n",
       "    <tr>\n",
       "      <th>982</th>\n",
       "      <td>Ben Gibson</td>\n",
       "      <td>eng Premier League</td>\n",
       "      <td>Norwich City</td>\n",
       "      <td>20.7</td>\n",
       "      <td>10.49</td>\n",
       "      <td>12.87</td>\n",
       "      <td>3.140097</td>\n",
       "      <td>40.579710</td>\n",
       "      <td>24.160000</td>\n",
       "      <td>315.240000</td>\n",
       "      <td>54.360000</td>\n",
       "      <td>5.700483</td>\n",
       "      <td>DC</td>\n",
       "    </tr>\n",
       "    <tr>\n",
       "      <th>2289</th>\n",
       "      <td>Antonio Rüdiger</td>\n",
       "      <td>eng Premier League</td>\n",
       "      <td>Chelsea</td>\n",
       "      <td>24.0</td>\n",
       "      <td>10.25</td>\n",
       "      <td>11.86</td>\n",
       "      <td>4.791667</td>\n",
       "      <td>59.916667</td>\n",
       "      <td>40.560000</td>\n",
       "      <td>505.120000</td>\n",
       "      <td>95.160000</td>\n",
       "      <td>9.750000</td>\n",
       "      <td>DC</td>\n",
       "    </tr>\n",
       "    <tr>\n",
       "      <th>1360</th>\n",
       "      <td>Max Kilman</td>\n",
       "      <td>eng Premier League</td>\n",
       "      <td>Wolves</td>\n",
       "      <td>25.0</td>\n",
       "      <td>10.01</td>\n",
       "      <td>10.88</td>\n",
       "      <td>3.040000</td>\n",
       "      <td>40.240000</td>\n",
       "      <td>26.520000</td>\n",
       "      <td>369.800000</td>\n",
       "      <td>65.960000</td>\n",
       "      <td>6.600000</td>\n",
       "      <td>DC</td>\n",
       "    </tr>\n",
       "  </tbody>\n",
       "</table>\n",
       "</div>"
      ],
      "text/plain": [
       "               Player                Comp            Squad   90s  \\\n",
       "1454  Aymeric Laporte  eng Premier League  Manchester City  20.1   \n",
       "2786     Adam Webster  eng Premier League         Brighton  13.0   \n",
       "1684       Joël Matip  eng Premier League        Liverpool  21.0   \n",
       "628        Ben Davies  eng Premier League        Tottenham  14.3   \n",
       "2451     Thiago Silva  eng Premier League          Chelsea  19.3   \n",
       "35    Kristoffer Ajer  eng Premier League        Brentford  12.3   \n",
       "2329  Mohammed Salisu  eng Premier League      Southampton  23.0   \n",
       "982        Ben Gibson  eng Premier League     Norwich City  20.7   \n",
       "2289  Antonio Rüdiger  eng Premier League          Chelsea  24.0   \n",
       "1360       Max Kilman  eng Premier League           Wolves  25.0   \n",
       "\n",
       "      Prog% Of Team Total  Pass% Of Team Total      Prog  Passes Completed  \\\n",
       "1454                13.47                13.38  6.467662         84.676617   \n",
       "2786                13.19                13.95  4.538462         63.230769   \n",
       "1684                12.70                12.38  5.428571         66.761905   \n",
       "628                 12.55                10.70  4.125874         45.454545   \n",
       "2451                11.00                14.29  4.145078         72.176166   \n",
       "35                  10.72                 8.81  2.926829         25.853659   \n",
       "2329                10.61                12.98  3.608696         41.782609   \n",
       "982                 10.49                12.87  3.140097         40.579710   \n",
       "2289                10.25                11.86  4.791667         59.916667   \n",
       "1360                10.01                10.88  3.040000         40.240000   \n",
       "\n",
       "      Team Prog  Team Total Passes  Team Progressive Actions  \\\n",
       "1454  45.807692         632.923077                131.153846   \n",
       "2786  32.600000         453.200000                 75.800000   \n",
       "1684  52.769231         539.230769                114.346154   \n",
       "628   35.708333         424.791667                 85.250000   \n",
       "2451  40.560000         505.120000                 95.160000   \n",
       "35    26.615385         293.538462                 52.307692   \n",
       "2329  27.960000         321.960000                 68.840000   \n",
       "982   24.160000         315.240000                 54.360000   \n",
       "2289  40.560000         505.120000                 95.160000   \n",
       "1360  26.520000         369.800000                 65.960000   \n",
       "\n",
       "      Player Progressive Actions Position  \n",
       "1454                   17.661692       DC  \n",
       "2786                   10.000000       DC  \n",
       "1684                   14.523810       DC  \n",
       "628                    10.699301       DC  \n",
       "2451                   10.466321       DC  \n",
       "35                      5.609756       DC  \n",
       "2329                    7.304348       DC  \n",
       "982                     5.700483       DC  \n",
       "2289                    9.750000       DC  \n",
       "1360                    6.600000       DC  "
      ]
     },
     "execution_count": 70,
     "metadata": {},
     "output_type": "execute_result"
    }
   ],
   "source": [
    "#checking the results\n",
    "prem_df.sort_values('Prog% Of Team Total', ascending=False).head(10)"
   ]
  },
  {
   "cell_type": "markdown",
   "id": "d7a1be49",
   "metadata": {},
   "source": [
    "• The results are coming out to be satisfactory and match well with the eye test. "
   ]
  },
  {
   "cell_type": "code",
   "execution_count": 71,
   "id": "276aece9",
   "metadata": {},
   "outputs": [],
   "source": [
    "prem_df.reset_index(inplace=True, drop=True)"
   ]
  },
  {
   "cell_type": "code",
   "execution_count": 72,
   "id": "acd80c96",
   "metadata": {},
   "outputs": [],
   "source": [
    "pass_names = prem_df.sort_values('Pass% Of Team Total', axis=0)['Player'].tolist()\n",
    "prog_names = prem_df.sort_values('Prog% Of Team Total', axis=0)['Player'].tolist()"
   ]
  },
  {
   "cell_type": "code",
   "execution_count": 73,
   "id": "362c2d2f",
   "metadata": {},
   "outputs": [],
   "source": [
    "combined_names = [pass_names, prog_names]"
   ]
  },
  {
   "cell_type": "code",
   "execution_count": 74,
   "id": "10732c1f",
   "metadata": {},
   "outputs": [],
   "source": [
    "#players who are part of going to be part of the extreme quandrants in our scatter plot\n",
    "top_bottom = [name[i] for name in combined_names for i in range(-1, 1)]"
   ]
  },
  {
   "cell_type": "code",
   "execution_count": 75,
   "id": "a269161f",
   "metadata": {},
   "outputs": [
    {
     "data": {
      "text/plain": [
       "['Lewis Dunk', 'Lyanco', 'Aymeric Laporte', 'Angelo Ogbonna']"
      ]
     },
     "execution_count": 75,
     "metadata": {},
     "output_type": "execute_result"
    }
   ],
   "source": [
    "top_bottom"
   ]
  },
  {
   "cell_type": "code",
   "execution_count": 76,
   "id": "fc1313e8",
   "metadata": {},
   "outputs": [
    {
     "data": {
      "text/plain": [
       "array(['Kristoffer Ajer', 'Daniel Amartey', 'Joachim Andersen',\n",
       "       'Jan Bednarek', 'Dan Burn', 'Craig Cathcart', 'Trevoh Chalobah',\n",
       "       'Andreas Christensen', 'Ciaran Clark', 'Conor Coady',\n",
       "       'Liam Cooper', 'Ben Davies', 'Craig Dawson', 'Rúben Dias',\n",
       "       'Eric Dier', 'Virgil van Dijk', 'Issa Diop', 'Gabriel Dos Santos',\n",
       "       'Shane Duffy', 'Lewis Dunk', 'Jonny Evans', 'Ben Gibson',\n",
       "       'Marc Guéhi', 'Grant Hanley', 'Mason Holgate', 'Pontus Jansson',\n",
       "       'Ozan Kabak', 'Michael Keane', 'Max Kilman', 'Ibrahima Konaté',\n",
       "       'Ezri Konsa', 'Aymeric Laporte', 'Jamaal Lascelles',\n",
       "       'Victor Lindelöf', 'Diego Llorente', 'Lyanco', 'Harry Maguire',\n",
       "       'Joël Matip', 'Ben Mee', 'Yerry Mina', 'Tyrone Mings',\n",
       "       'Wilfred Ndidi', 'Angelo Ogbonna', 'Ethan Pinnock',\n",
       "       'Cristian Romero', 'Antonio Rüdiger', 'Romain Saïss',\n",
       "       'Mohammed Salisu', 'Davinson Sánchez', 'Fabian Schär',\n",
       "       'Thiago Silva', 'Çağlar Söyüncü', 'Pascal Struijk',\n",
       "       'James Tarkowski', 'James Tomkins', 'William Troost-Ekong',\n",
       "       'Raphaël Varane', 'Jannik Vestergaard', 'Adam Webster',\n",
       "       'Ben White', 'Kurt Zouma'], dtype=object)"
      ]
     },
     "execution_count": 76,
     "metadata": {},
     "output_type": "execute_result"
    }
   ],
   "source": [
    "prem_df['Player'].unique()"
   ]
  },
  {
   "cell_type": "code",
   "execution_count": 77,
   "id": "7ec5f548",
   "metadata": {},
   "outputs": [],
   "source": [
    "#choosing some random names that we would like to highlight in our plot and further combining them with our top_bottom array\n",
    "highlight_names = [\n",
    "    'Kristoffer Ajer',\n",
    "    'Conor Coady',\n",
    "    'Virgil van Dijk',\n",
    "    'Adam Webster',\n",
    "    'Thiago Silva',\n",
    "    'Harry Maguire',\n",
    "    'Aymeric Laporte',\n",
    "    'James Tarkowski',\n",
    "    'Ben White',\n",
    "    'Ibrahima Konaté',\n",
    "    'Joël Matip'\n",
    "]\n",
    "\n",
    "for name in top_bottom:\n",
    "    if name not in highlight_names:\n",
    "        highlight_names.append(name)"
   ]
  },
  {
   "cell_type": "code",
   "execution_count": 78,
   "id": "93fcf8cc",
   "metadata": {},
   "outputs": [
    {
     "data": {
      "text/plain": [
       "14"
      ]
     },
     "execution_count": 78,
     "metadata": {},
     "output_type": "execute_result"
    }
   ],
   "source": [
    "len(highlight_names)"
   ]
  },
  {
   "cell_type": "code",
   "execution_count": 79,
   "id": "fec868d1",
   "metadata": {},
   "outputs": [
    {
     "data": {
      "text/plain": [
       "['Kristoffer Ajer',\n",
       " 'Conor Coady',\n",
       " 'Virgil van Dijk',\n",
       " 'Adam Webster',\n",
       " 'Thiago Silva',\n",
       " 'Harry Maguire',\n",
       " 'Aymeric Laporte',\n",
       " 'James Tarkowski',\n",
       " 'Ben White',\n",
       " 'Ibrahima Konaté',\n",
       " 'Joël Matip',\n",
       " 'Lewis Dunk',\n",
       " 'Lyanco',\n",
       " 'Angelo Ogbonna']"
      ]
     },
     "execution_count": 79,
     "metadata": {},
     "output_type": "execute_result"
    }
   ],
   "source": [
    "highlight_names"
   ]
  },
  {
   "cell_type": "code",
   "execution_count": 80,
   "id": "2e4ac2ba",
   "metadata": {},
   "outputs": [],
   "source": [
    "from matplotlib import rcParams"
   ]
  },
  {
   "cell_type": "code",
   "execution_count": 85,
   "id": "95330579",
   "metadata": {},
   "outputs": [],
   "source": [
    "#plotting the scatter plot\n",
    "def scatterplot(df, name_list):\n",
    "    background_color = '#1d2849'\n",
    "    text_color = 'white'\n",
    "    main_color = '#00a7e7'\n",
    "    secondary_color = '#96b4c8'\n",
    "    fig, ax = plt.subplots(\n",
    "    facecolor = background_color, figsize=(16, 12)\n",
    "    )\n",
    "    ax.set_facecolor(background_color)\n",
    "    plt.rcParams['font.family'] = 'serif'\n",
    "    plt.rcParams[\"font.weight\"] = \"bold\"\n",
    "    plt.rcParams[\"axes.labelweight\"] = \"bold\"\n",
    "    ax.spines[\"top\"].set_visible(False)\n",
    "    ax.spines[\"right\"].set_visible(False)\n",
    "    ax.spines['left'].set_color(text_color)\n",
    "    ax.spines['bottom'].set_color(text_color)\n",
    "    max_progressive = df['Prog% Of Team Total'].max()\n",
    "    min_progressive = df['Prog% Of Team Total'].min()\n",
    "    max_involvement = df['Pass% Of Team Total'].max()\n",
    "    min_involvement = df['Pass% Of Team Total'].min()\n",
    "    ax.tick_params(axis='both', color=text_color)\n",
    "    plt.xticks(np.arange(round(min_progressive) , round(max_progressive+2), 2) ,size=10, c=text_color)\n",
    "    plt.yticks(np.arange(round(min_involvement), max_involvement+1, 1), size=10, c=text_color)\n",
    "    x_ticks = plt.xticks()[0]\n",
    "    y_ticks = plt.yticks()[0]\n",
    "    xtick_label = [f'{round(x_tick)}%' for x_tick in x_ticks]\n",
    "    ytick_label = [f'{round(y_tick)}%' for y_tick in y_ticks]\n",
    "    ax.set_xticklabels(xtick_label, size=12, c=text_color)\n",
    "    ax.set_yticklabels(ytick_label, size=12, c=text_color)\n",
    "    plt.xlabel(\"Progressiveness\", c='white', size=20, labelpad=20)\n",
    "    ax.text(4.5, 6.2, \"(% Of Team's Progressive Passes + Dribbles Per 90)\", c=text_color, size=15)\n",
    "    plt.ylabel('Involvement', c=text_color, size=20, labelpad=40)\n",
    "    ax.text(-1, 10.2, \"(% Of Team's Passes Per 90)\", c=text_color, size=15, rotation=90)\n",
    "    \n",
    "    for x in range(len(df)):\n",
    "        if df['Player'][x] in name_list:\n",
    "            c, s, alpha = '#00a7e7', 300, 0.8\n",
    "            ax.text(df['Prog% Of Team Total'][x], df['Pass% Of Team Total'][x]+0.18, df['Player'][x], \n",
    "                    ha='center', va='center', c=text_color, fontsize=12, zorder=2)\n",
    "        else:\n",
    "            c, s, alpha = '#96b4c8', 100, 0.2\n",
    "        plt.scatter(df['Prog% Of Team Total'][x], df['Pass% Of Team Total'][x], c=c, s=s, alpha=alpha, hatch='/'*5)\n",
    "    \n",
    "    progressive_median = df['Prog% Of Team Total'].median()\n",
    "    involvement_median = df['Pass% Of Team Total'].median()\n",
    "    ax.plot([progressive_median, progressive_median], [max_involvement+1, min_involvement-1],\n",
    "            color=text_color, ls=\"--\", lw=1, alpha=1, zorder=1)\n",
    "    ax.plot([min_progressive-2, max_progressive+2], [involvement_median, involvement_median],\n",
    "            color=text_color, ls=\"--\", lw=1, alpha=1, zorder=1)\n",
    "    ax.set(xlim=(min_progressive-2, max_progressive+2), ylim=(min_involvement-1, max_involvement+1))\n",
    "    ax.text(max_progressive+1, involvement_median+0.08, 'Median', c=text_color, size=12)\n",
    "    ax.text(progressive_median-0.2, max_involvement+0.2, 'Median', c=text_color, size=12, rotation=90)\n",
    "    ax.text(0.9, 16.7, \"Centre-Backs Contribution To Buildup Play\",size=30, color=text_color)\n",
    "    ax.text(0.9, 16.2, \"Progressiveness Vs Involvement | Premier League 21/22\",size=24, color=text_color)\n",
    "    ax.grid(alpha=0.2)\n",
    "    ax_player = fig.add_axes((0.05, 0.84, 0.15, 0.18))\n",
    "    ax_player.axis('off')\n",
    "    im = plt.imread('download__24_-removebg-preview.png')\n",
    "    ax_player.imshow(im, aspect='auto')\n",
    "    ax.text(-1.2, 5.5, \"*Players included with minimum six 90's played\", c=text_color, size=12)\n",
    "    ax.text(12, 5.5, \"Data via Fbref | made by Shivank Batra\", c=text_color, size=12)\n",
    "    plt.savefig('buildup_play.png', dpi=300, bbox_inches='tight')"
   ]
  },
  {
   "cell_type": "code",
   "execution_count": 86,
   "id": "f35091f6",
   "metadata": {},
   "outputs": [
    {
     "data": {
      "image/png": "[encoded data removed]",
      "text/plain": [
       "<Figure size 1152x864 with 2 Axes>"
      ]
     },
     "metadata": {},
     "output_type": "display_data"
    }
   ],
   "source": [
    "scatterplot(prem_df, highlight_names)"
   ]
  },
  {
   "cell_type": "code",
   "execution_count": null,
   "id": "fc8eee42",
   "metadata": {},
   "outputs": [],
   "source": []
  },
  {
   "cell_type": "code",
   "execution_count": null,
   "id": "5faf28b9",
   "metadata": {},
   "outputs": [],
   "source": []
  },
  {
   "cell_type": "code",
   "execution_count": null,
   "id": "a7e297dd",
   "metadata": {},
   "outputs": [],
   "source": []
  },
  {
   "cell_type": "code",
   "execution_count": null,
   "id": "2b8a6853",
   "metadata": {},
   "outputs": [],
   "source": []
  },
  {
   "cell_type": "code",
   "execution_count": null,
   "id": "4ac3a97a",
   "metadata": {},
   "outputs": [],
   "source": []
  }
 ],
 "metadata": {
  "kernelspec": {
   "display_name": "Python 3 (ipykernel)",
   "language": "python",
   "name": "python3"
  },
  "language_info": {
   "codemirror_mode": {
    "name": "ipython",
    "version": 3
   },
   "file_extension": ".py",
   "mimetype": "text/x-python",
   "name": "python",
   "nbconvert_exporter": "python",
   "pygments_lexer": "ipython3",
   "version": "3.8.5"
  }
 },
 "nbformat": 4,
 "nbformat_minor": 5
}
